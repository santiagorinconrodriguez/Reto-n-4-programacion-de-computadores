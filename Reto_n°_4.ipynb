{
  "nbformat": 4,
  "nbformat_minor": 0,
  "metadata": {
    "colab": {
      "provenance": [],
      "name": "Reto n° 4.ipynb",
      "authorship_tag": "ABX9TyNyl0CYANRnLoyDlIvGbDnG",
      "include_colab_link": true
    },
    "kernelspec": {
      "name": "python3",
      "display_name": "Python 3"
    },
    "language_info": {
      "name": "python"
    }
  },
  "cells": [
    {
      "cell_type": "markdown",
      "metadata": {
        "id": "view-in-github",
        "colab_type": "text"
      },
      "source": [
        "<a href=\"https://colab.research.google.com/github/santiagorinconrodriguez/Reto-n-4-programacion-de-computadores/blob/main/Reto_n%C2%B0_4.ipynb\" target=\"_parent\"><img src=\"https://colab.research.google.com/assets/colab-badge.svg\" alt=\"Open In Colab\"/></a>"
      ]
    },
    {
      "cell_type": "markdown",
      "source": [
        "# Reto n° 4 programación de computadores\n",
        "## Brayan Santiago Rincón Rodríguez\n",
        "\n",
        "1. Dado un número entero, determinar si ese número corresponde al código ASCII de una vocal minúscula."
      ],
      "metadata": {
        "id": "g1Cn4qtOvg2E"
      }
    },
    {
      "cell_type": "code",
      "source": [
        " entero : int\n",
        " entero = int(input(\"Ingrese un número entero: \"))\n",
        " if entero == 97 or entero == 101 or entero == 105 or entero == 111 or entero == 117:\n",
        "    print(\"El número corresponde al código ASCCI de la vocal minúscula (\" + chr(entero) + \")\")\n",
        " else:\n",
        "    print(\"El número no corresponde al código ASCCI de una vocal minúscula\")\n"
      ],
      "metadata": {
        "id": "hntygrhOwBP_",
        "collapsed": true
      },
      "execution_count": null,
      "outputs": []
    },
    {
      "cell_type": "markdown",
      "source": [
        "2. Dada una cadena de longitud 1, determine si el código ASCII de primera letra de la cadena es par o no."
      ],
      "metadata": {
        "id": "d6qPKdWuAEgb"
      }
    },
    {
      "cell_type": "code",
      "source": [
        "letra : int\n",
        "letra = (input(\"Ingrese una letra: \"))\n",
        "\n",
        "if (ord(letra)>= 65 and ord(letra) <= 90) or (ord(letra)>= 97 and ord(letra) <= 122):\n",
        "   print (\"La letra ingresada pertenece al número: \" + str(ord(letra)))\n",
        "\n",
        "   if ord(letra) % 2 == 0:\n",
        "      print (\"El número es par\")\n",
        "\n",
        "   else:\n",
        "      print (\"El número es impar\")\n",
        "else:\n",
        "   print (\"ingresó un carácter no válido\")"
      ],
      "metadata": {
        "id": "4g_vObwzz7-F"
      },
      "execution_count": null,
      "outputs": []
    },
    {
      "cell_type": "markdown",
      "source": [
        "3. Dado un carácter, construya un programa en Python para determinar si el carácter es un dígito o no."
      ],
      "metadata": {
        "id": "RZN4Du-HAMLp"
      }
    },
    {
      "cell_type": "code",
      "source": [
        "digito : int\n",
        "digito = input(\"Ingrese un carácter: \" )\n",
        "if 48 <= ord(digito) <= 57:\n",
        "    print(\"El carácter ingresado es un dígito\")\n",
        "else:\n",
        "    print(\"El carácter ingresado no es un dígito\")"
      ],
      "metadata": {
        "id": "f5ooU2aWAMlZ"
      },
      "execution_count": null,
      "outputs": []
    },
    {
      "cell_type": "markdown",
      "source": [
        "4. Realice un programa que lea dos números reales y determine si el primero es múltiplo del segundo."
      ],
      "metadata": {
        "id": "p5fNcOILEfDV"
      }
    },
    {
      "cell_type": "code",
      "source": [
        "primer_numero: int\n",
        "segundo_numero: int\n",
        "primer_numero = int(input(\"Ingrese el primer número: \"))\n",
        "segundo_numero = int(input(\"Ingrese el segundo número: \"))\n",
        "\n",
        "if primer_numero % segundo_numero == 0:\n",
        "    print(\"El primer número es múltiplo del segundo\")\n",
        "else:\n",
        "    print(\"El primer número no es múltiplo del segundo\")"
      ],
      "metadata": {
        "id": "Wi4Nlr9-EfuE"
      },
      "execution_count": null,
      "outputs": []
    },
    {
      "cell_type": "markdown",
      "source": [
        "5. Dado un número real x, construya un programa que permita determinar si el número es positivo, negativo o cero."
      ],
      "metadata": {
        "id": "vIjQvlGPGAWv"
      }
    },
    {
      "cell_type": "code",
      "source": [
        "primer_numero: float\n",
        "primer_numero = float(input(\"Ingrese un número real x: \"))\n",
        "if primer_numero == 0:\n",
        "    print(\"El número x es el neutro para la suma\")\n",
        "elif primer_numero > 0:\n",
        "    print(\"El número x es positivo\")\n",
        "else:\n",
        "    print(\"El número x es negativo\")"
      ],
      "metadata": {
        "id": "MafgKOAxGAqW"
      },
      "execution_count": null,
      "outputs": []
    },
    {
      "cell_type": "markdown",
      "source": [
        "6. Dado el centro y el radio de un círculo, determinar si un punto de R2 pertenece o no al interior del círculo.\n",
        "\n"
      ],
      "metadata": {
        "id": "CSY8yTc4EFhU"
      }
    },
    {
      "cell_type": "code",
      "source": [
        "x = float(input(\"Coordenada x del punto: \"))\n",
        "y = float(input(\"Coordenada y del punto: \"))\n",
        "a = float(input(\"Coordenada x del centro: \"))\n",
        "b = float(input(\"Coordenada y del centro: \"))\n",
        "r = float(input(\"Radio del círculo: \"))\n",
        "\n",
        "if (x - a)**2 + (y - b)**2 <= r**2:\n",
        "    print(\"El punto está dentro o sobre el círculo.\")\n",
        "else:\n",
        "    print(\"El punto está fuera del círculo.\")\n"
      ],
      "metadata": {
        "id": "8U4BCx2uEH6E"
      },
      "execution_count": null,
      "outputs": []
    },
    {
      "cell_type": "markdown",
      "source": [
        "7. Dadas tres longitudes positivas, determinar si con esas longitudes se puede construir un triángulo."
      ],
      "metadata": {
        "id": "iIUp3zllGdc-"
      }
    },
    {
      "cell_type": "code",
      "source": [
        "medida_a = float(input(\"Ingrese la medida a: \"))\n",
        "medida_b = float(input(\"Ingrese la medida b: \"))\n",
        "medida_c = float(input(\"Ingrese la medida c: \"))\n",
        "\n",
        "if medida_a + medida_b > medida_c and medida_a + medida_c > medida_b and medida_b + medida_c > medida_a:\n",
        "    print(\"Se puede formar un triángulo con las medidas ingresadas\")\n",
        "\n",
        "else:\n",
        "    print(\"No se puede formar un triángulo con las medidas ingresadas\")"
      ],
      "metadata": {
        "id": "YZxwaPSKFuYk"
      },
      "execution_count": null,
      "outputs": []
    },
    {
      "cell_type": "markdown",
      "source": [
        "8. Escriba un programa que reciba el nombre en minúsculas de un país de America y retorne la ciudad capital, si el país no pertenece al continente debe arrojar país no identificado (Utilice match-case)."
      ],
      "metadata": {
        "id": "_wVofP628YGL"
      }
    },
    {
      "cell_type": "code",
      "source": [
        "pais = input(\"Ingrese el nombre de un país americano en minúsculas, sin tilde y sin espacio: \")\n",
        "\n",
        "match pais:\n",
        "    case \"canada\":\n",
        "        print(\"La capital es Ottawa.\")\n",
        "    case \"estadosunidos\":\n",
        "        print(\"La capital es Washington D.C.\")\n",
        "    case \"mexico\":\n",
        "        print(\"La capital es Ciudad de México.\")\n",
        "    case \"guatemala\":\n",
        "        print(\"La capital es Ciudad de Guatemala.\")\n",
        "    case \"belice\":\n",
        "        print(\"La capital es Belmopán.\")\n",
        "    case \"honduras\":\n",
        "        print(\"La capital es Tegucigalpa.\")\n",
        "    case \"elsalvador\":\n",
        "        print(\"La capital es San Salvador.\")\n",
        "    case \"nicaragua\":\n",
        "        print(\"La capital es Managua.\")\n",
        "    case \"costarica\":\n",
        "        print(\"La capital es San José.\")\n",
        "    case \"panama\":\n",
        "        print(\"La capital es Ciudad de Panamá.\")\n",
        "    case \"cuba\":\n",
        "        print(\"La capital es La Habana.\")\n",
        "    case \"republicadominicana\":\n",
        "        print(\"La capital es Santo Domingo.\")\n",
        "    case \"haiti\":\n",
        "        print(\"La capital es Puerto Príncipe.\")\n",
        "    case \"jamaica\":\n",
        "        print(\"La capital es Kingston.\")\n",
        "    case \"bahamas\":\n",
        "        print(\"La capital es Nasáu.\")\n",
        "    case \"barbados\":\n",
        "        print(\"La capital es Bridgetown.\")\n",
        "    case \"trinidadytobago\":\n",
        "        print(\"La capital es Puerto España.\")\n",
        "    case \"colombia\":\n",
        "        print(\"La capital es Bogotá.\")\n",
        "    case \"venezuela\":\n",
        "        print(\"La capital es Caracas.\")\n",
        "    case \"ecuador\":\n",
        "        print(\"La capital es Quito.\")\n",
        "    case \"peru\":\n",
        "        print(\"La capital es Lima.\")\n",
        "    case \"bolivia\":\n",
        "        print(\"La capital es Sucre\")\n",
        "    case \"paraguay\":\n",
        "        print(\"La capital es Asunción.\")\n",
        "    case \"chile\":\n",
        "        print(\"La capital es Santiago.\")\n",
        "    case \"argentina\":\n",
        "        print(\"La capital es Buenos Aires.\")\n",
        "    case \"uruguay\":\n",
        "        print(\"La capital es Montevideo.\")\n",
        "    case \"brasil\":\n",
        "        print(\"La capital es Brasilia.\")\n",
        "    case \"guyana\":\n",
        "        print(\"La capital es Georgetown.\")\n",
        "    case \"surinam\":\n",
        "        print(\"La capital es Paramaribo.\")\n",
        "    case \"guayanafrancesa\":\n",
        "        print(\"La capital es Cayena.\")\n",
        "    case _:\n",
        "        print(\"País no identificado.\")"
      ],
      "metadata": {
        "id": "kuD6QTES44L7"
      },
      "execution_count": null,
      "outputs": []
    },
    {
      "cell_type": "markdown",
      "source": [
        "## Nombre\n",
        "\n",
        "Brayan Santiago Rincón Rodríguez\n",
        "\n",
        "## Curso\n",
        "\n",
        "programación de computadores"
      ],
      "metadata": {
        "id": "EgaVV6rzHHs2"
      }
    }
  ]
}